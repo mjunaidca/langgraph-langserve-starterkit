{
 "cells": [
  {
   "cell_type": "markdown",
   "metadata": {},
   "source": [
    "## Langserve Langgraph Client"
   ]
  },
  {
   "cell_type": "code",
   "execution_count": null,
   "metadata": {},
   "outputs": [],
   "source": [
    "!pip install \"langserve[all]\""
   ]
  },
  {
   "cell_type": "code",
   "execution_count": 5,
   "metadata": {},
   "outputs": [
    {
     "name": "stdout",
     "output_type": "stream",
     "text": [
      "{'conversation': {'messages': AIMessage(content=\"Hi! It seems like we're stuck in a greeting loop. If there's something specific you'd like to talk about or ask, just let me know!\", additional_kwargs={}, response_metadata={'finish_reason': 'stop', 'model_name': 'gpt-4o-mini-2024-07-18', 'system_fingerprint': 'fp_483d39d857'}, id='run-71b33c7f-3910-47e8-a8b7-39cf80f5fa88-0')}}"
     ]
    }
   ],
   "source": [
    "from langserve import RemoteRunnable\n",
    "\n",
    "chain = RemoteRunnable(\"http://localhost:8000/chat/\")\n",
    "\n",
    "chain.invoke({\"messages\": [{\"role\": \"human\", \"content\":\"hi\"}],\n",
    "            \"summary\": \"\"\n",
    "            })\n",
    "\n",
    "# Supports astream\n",
    "async for msg in chain.astream({\"messages\": [{\"role\": \"human\", \"content\":\"hi\"}],\n",
    "            \"summary\": \"\"\n",
    "            }):\n",
    "    print(msg, end=\"\", flush=True)\n",
    "\n"
   ]
  },
  {
   "cell_type": "markdown",
   "metadata": {},
   "source": [
    "## Langgraph SDK"
   ]
  },
  {
   "cell_type": "code",
   "execution_count": 11,
   "metadata": {},
   "outputs": [
    {
     "name": "stdout",
     "output_type": "stream",
     "text": [
      "Collecting langgraph_sdk\n",
      "  Using cached langgraph_sdk-0.1.30-py3-none-any.whl.metadata (1.8 kB)\n",
      "Requirement already satisfied: httpx>=0.25.2 in ./client-langgraph/lib/python3.12/site-packages (from langgraph_sdk) (0.27.2)\n",
      "Collecting httpx-sse>=0.4.0 (from langgraph_sdk)\n",
      "  Using cached httpx_sse-0.4.0-py3-none-any.whl.metadata (9.0 kB)\n",
      "Requirement already satisfied: orjson>=3.10.1 in ./client-langgraph/lib/python3.12/site-packages (from langgraph_sdk) (3.10.7)\n",
      "Requirement already satisfied: anyio in ./client-langgraph/lib/python3.12/site-packages (from httpx>=0.25.2->langgraph_sdk) (4.4.0)\n",
      "Requirement already satisfied: certifi in ./client-langgraph/lib/python3.12/site-packages (from httpx>=0.25.2->langgraph_sdk) (2024.8.30)\n",
      "Requirement already satisfied: httpcore==1.* in ./client-langgraph/lib/python3.12/site-packages (from httpx>=0.25.2->langgraph_sdk) (1.0.5)\n",
      "Requirement already satisfied: idna in ./client-langgraph/lib/python3.12/site-packages (from httpx>=0.25.2->langgraph_sdk) (3.10)\n",
      "Requirement already satisfied: sniffio in ./client-langgraph/lib/python3.12/site-packages (from httpx>=0.25.2->langgraph_sdk) (1.3.1)\n",
      "Requirement already satisfied: h11<0.15,>=0.13 in ./client-langgraph/lib/python3.12/site-packages (from httpcore==1.*->httpx>=0.25.2->langgraph_sdk) (0.14.0)\n",
      "Using cached langgraph_sdk-0.1.30-py3-none-any.whl (13 kB)\n",
      "Using cached httpx_sse-0.4.0-py3-none-any.whl (7.8 kB)\n",
      "Installing collected packages: httpx-sse, langgraph_sdk\n",
      "Successfully installed httpx-sse-0.4.0 langgraph_sdk-0.1.30\n",
      "\n",
      "\u001b[1m[\u001b[0m\u001b[34;49mnotice\u001b[0m\u001b[1;39;49m]\u001b[0m\u001b[39;49m A new release of pip is available: \u001b[0m\u001b[31;49m24.0\u001b[0m\u001b[39;49m -> \u001b[0m\u001b[32;49m24.2\u001b[0m\n",
      "\u001b[1m[\u001b[0m\u001b[34;49mnotice\u001b[0m\u001b[1;39;49m]\u001b[0m\u001b[39;49m To update, run: \u001b[0m\u001b[32;49mpip install --upgrade pip\u001b[0m\n"
     ]
    }
   ],
   "source": [
    "!pip install langgraph_sdk"
   ]
  }
 ],
 "metadata": {
  "kernelspec": {
   "display_name": ".venv",
   "language": "python",
   "name": "python3"
  },
  "language_info": {
   "codemirror_mode": {
    "name": "ipython",
    "version": 3
   },
   "file_extension": ".py",
   "mimetype": "text/x-python",
   "name": "python",
   "nbconvert_exporter": "python",
   "pygments_lexer": "ipython3",
   "version": "3.12.2"
  }
 },
 "nbformat": 4,
 "nbformat_minor": 2
}
